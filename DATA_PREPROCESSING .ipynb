{
 "cells": [
  {
   "cell_type": "code",
   "execution_count": 140,
   "id": "fdf4729c-8370-4e8f-abfc-1720483041ee",
   "metadata": {},
   "outputs": [],
   "source": [
    "# IMPORTING LIBRARY\n",
    "import numpy as np\n",
    "import pandas as pd\n",
    "import matplotlib.pyplot as plt\n",
    "from sklearn.impute import SimpleImputer  # to deal with missing values\n",
    "from sklearn.preprocessing import LabelEncoder   # used to convert categorical data into numerial values\n",
    "from sklearn.model_selection import train_test_split  # used to split the data into training set & testing set"
   ]
  },
  {
   "cell_type": "code",
   "execution_count": 141,
   "id": "a4b867a5-3100-4af9-85f2-e59eeb1091b2",
   "metadata": {},
   "outputs": [
    {
     "data": {
      "text/html": [
       "<div>\n",
       "<style scoped>\n",
       "    .dataframe tbody tr th:only-of-type {\n",
       "        vertical-align: middle;\n",
       "    }\n",
       "\n",
       "    .dataframe tbody tr th {\n",
       "        vertical-align: top;\n",
       "    }\n",
       "\n",
       "    .dataframe thead th {\n",
       "        text-align: right;\n",
       "    }\n",
       "</style>\n",
       "<table border=\"1\" class=\"dataframe\">\n",
       "  <thead>\n",
       "    <tr style=\"text-align: right;\">\n",
       "      <th></th>\n",
       "      <th>State</th>\n",
       "      <th>Age</th>\n",
       "      <th>Salary</th>\n",
       "      <th>Purchased</th>\n",
       "    </tr>\n",
       "  </thead>\n",
       "  <tbody>\n",
       "    <tr>\n",
       "      <th>0</th>\n",
       "      <td>Mumbai</td>\n",
       "      <td>44.0</td>\n",
       "      <td>72000.0</td>\n",
       "      <td>No</td>\n",
       "    </tr>\n",
       "    <tr>\n",
       "      <th>1</th>\n",
       "      <td>Bangalore</td>\n",
       "      <td>27.0</td>\n",
       "      <td>48000.0</td>\n",
       "      <td>Yes</td>\n",
       "    </tr>\n",
       "    <tr>\n",
       "      <th>2</th>\n",
       "      <td>Hyderabad</td>\n",
       "      <td>30.0</td>\n",
       "      <td>54000.0</td>\n",
       "      <td>No</td>\n",
       "    </tr>\n",
       "    <tr>\n",
       "      <th>3</th>\n",
       "      <td>Bangalore</td>\n",
       "      <td>38.0</td>\n",
       "      <td>61000.0</td>\n",
       "      <td>No</td>\n",
       "    </tr>\n",
       "    <tr>\n",
       "      <th>4</th>\n",
       "      <td>Hyderabad</td>\n",
       "      <td>40.0</td>\n",
       "      <td>NaN</td>\n",
       "      <td>Yes</td>\n",
       "    </tr>\n",
       "    <tr>\n",
       "      <th>5</th>\n",
       "      <td>Mumbai</td>\n",
       "      <td>35.0</td>\n",
       "      <td>58000.0</td>\n",
       "      <td>Yes</td>\n",
       "    </tr>\n",
       "    <tr>\n",
       "      <th>6</th>\n",
       "      <td>Bangalore</td>\n",
       "      <td>NaN</td>\n",
       "      <td>52000.0</td>\n",
       "      <td>No</td>\n",
       "    </tr>\n",
       "    <tr>\n",
       "      <th>7</th>\n",
       "      <td>Mumbai</td>\n",
       "      <td>48.0</td>\n",
       "      <td>79000.0</td>\n",
       "      <td>Yes</td>\n",
       "    </tr>\n",
       "    <tr>\n",
       "      <th>8</th>\n",
       "      <td>Hyderabad</td>\n",
       "      <td>50.0</td>\n",
       "      <td>83000.0</td>\n",
       "      <td>No</td>\n",
       "    </tr>\n",
       "    <tr>\n",
       "      <th>9</th>\n",
       "      <td>Mumbai</td>\n",
       "      <td>37.0</td>\n",
       "      <td>67000.0</td>\n",
       "      <td>Yes</td>\n",
       "    </tr>\n",
       "  </tbody>\n",
       "</table>\n",
       "</div>"
      ],
      "text/plain": [
       "       State   Age   Salary Purchased\n",
       "0     Mumbai  44.0  72000.0        No\n",
       "1  Bangalore  27.0  48000.0       Yes\n",
       "2  Hyderabad  30.0  54000.0        No\n",
       "3  Bangalore  38.0  61000.0        No\n",
       "4  Hyderabad  40.0      NaN       Yes\n",
       "5     Mumbai  35.0  58000.0       Yes\n",
       "6  Bangalore   NaN  52000.0        No\n",
       "7     Mumbai  48.0  79000.0       Yes\n",
       "8  Hyderabad  50.0  83000.0        No\n",
       "9     Mumbai  37.0  67000.0       Yes"
      ]
     },
     "execution_count": 141,
     "metadata": {},
     "output_type": "execute_result"
    }
   ],
   "source": [
    "# IMPORTING THE DATASET\n",
    "dataset = pd.read_csv(r\"C:\\Users\\pk161\\OneDrive\\DATA\\Data.csv\")\n",
    "dataset"
   ]
  },
  {
   "cell_type": "markdown",
   "id": "9621212c-fce5-42ef-b1ab-2bafa8a1f153",
   "metadata": {},
   "source": [
    "## SEPARATING THE DATASET AS DEPENDENT & INDIPENDENT"
   ]
  },
  {
   "cell_type": "code",
   "execution_count": 143,
   "id": "1812231f-7110-462f-ac99-724f214b5f0e",
   "metadata": {},
   "outputs": [
    {
     "data": {
      "text/plain": [
       "array([['Mumbai', 44.0, 72000.0],\n",
       "       ['Bangalore', 27.0, 48000.0],\n",
       "       ['Hyderabad', 30.0, 54000.0],\n",
       "       ['Bangalore', 38.0, 61000.0],\n",
       "       ['Hyderabad', 40.0, nan],\n",
       "       ['Mumbai', 35.0, 58000.0],\n",
       "       ['Bangalore', nan, 52000.0],\n",
       "       ['Mumbai', 48.0, 79000.0],\n",
       "       ['Hyderabad', 50.0, 83000.0],\n",
       "       ['Mumbai', 37.0, 67000.0]], dtype=object)"
      ]
     },
     "execution_count": 143,
     "metadata": {},
     "output_type": "execute_result"
    }
   ],
   "source": [
    "# INDEPENDENT VARIABLE\n",
    "x = dataset.iloc[:,:-1].values        # (.values) converting pandas dataframe into numpy array\n",
    "x"
   ]
  },
  {
   "cell_type": "code",
   "execution_count": 144,
   "id": "a165d6f4-5990-4c8f-9b80-9db04aabd0b3",
   "metadata": {},
   "outputs": [
    {
     "data": {
      "text/plain": [
       "array(['No', 'Yes', 'No', 'No', 'Yes', 'Yes', 'No', 'Yes', 'No', 'Yes'],\n",
       "      dtype=object)"
      ]
     },
     "execution_count": 144,
     "metadata": {},
     "output_type": "execute_result"
    }
   ],
   "source": [
    "# DEPENDENT VARIABLE\n",
    "y = dataset.iloc[:,-1].values\n",
    "y"
   ]
  },
  {
   "cell_type": "markdown",
   "id": "09edaa5c-f89d-4d10-b764-240526c53680",
   "metadata": {},
   "source": [
    "## DATA CLEANING"
   ]
  },
  {
   "cell_type": "markdown",
   "id": "85cc2b19-623e-4d8e-b1cd-ae32345f9df5",
   "metadata": {},
   "source": [
    "### MISSING VALUES IN THE X (Independent variable)"
   ]
  },
  {
   "cell_type": "code",
   "execution_count": 147,
   "id": "9efaf6d1-c952-45c3-9285-5b86458ebd4b",
   "metadata": {},
   "outputs": [],
   "source": [
    "# creating an instance\n",
    "imputer = SimpleImputer(strategy ='median')             # by default strategy is mean for simpleimputer"
   ]
  },
  {
   "cell_type": "code",
   "execution_count": 148,
   "id": "9d00e4a6-a254-4b1c-bfd8-625e59dca7c9",
   "metadata": {},
   "outputs": [],
   "source": [
    "# using fit() method to compute necessary statistics to the missing values\n",
    "\n",
    "imputer = imputer.fit(x[:,1:3])  # fit the imputer to specified columns\n",
    "\n",
    "# transforing the data to fill missing values \n",
    "\n",
    "x[:,1:3] = imputer.transform(x[:,1:3])"
   ]
  },
  {
   "cell_type": "code",
   "execution_count": 149,
   "id": "4db3e57e-cda5-4f30-a057-2911770a6ef1",
   "metadata": {},
   "outputs": [
    {
     "data": {
      "text/plain": [
       "array([['Mumbai', 44.0, 72000.0],\n",
       "       ['Bangalore', 27.0, 48000.0],\n",
       "       ['Hyderabad', 30.0, 54000.0],\n",
       "       ['Bangalore', 38.0, 61000.0],\n",
       "       ['Hyderabad', 40.0, 61000.0],\n",
       "       ['Mumbai', 35.0, 58000.0],\n",
       "       ['Bangalore', 38.0, 52000.0],\n",
       "       ['Mumbai', 48.0, 79000.0],\n",
       "       ['Hyderabad', 50.0, 83000.0],\n",
       "       ['Mumbai', 37.0, 67000.0]], dtype=object)"
      ]
     },
     "execution_count": 149,
     "metadata": {},
     "output_type": "execute_result"
    }
   ],
   "source": [
    "x"
   ]
  },
  {
   "cell_type": "markdown",
   "id": "6c51002a-6d32-4b0f-b7ba-d1d1d49208da",
   "metadata": {},
   "source": [
    "## CONVERTING CATEGORICAL DATA INTO NUMERIC"
   ]
  },
  {
   "cell_type": "code",
   "execution_count": 151,
   "id": "6b120195-391c-47a1-872a-bbdfda95d610",
   "metadata": {},
   "outputs": [],
   "source": [
    "# dealing with independent variable x\n",
    "# creating instance for the LabelEncoder\n",
    "labelencoder_x = LabelEncoder()"
   ]
  },
  {
   "cell_type": "code",
   "execution_count": 152,
   "id": "31c029e0-0bf3-41ea-a30f-42273cb33225",
   "metadata": {},
   "outputs": [],
   "source": [
    "# fitting and transforming at a time to the specified columns\n",
    "labelencoder_x.fit_transform(x[:,0])\n",
    "\n",
    "# assaign the result back to the original data array\n",
    "x[:,0] = labelencoder_x.fit_transform(x[:,0])"
   ]
  },
  {
   "cell_type": "code",
   "execution_count": 153,
   "id": "6868eeca-3380-4e1a-b944-be027216d326",
   "metadata": {},
   "outputs": [
    {
     "data": {
      "text/plain": [
       "array([[2, 44.0, 72000.0],\n",
       "       [0, 27.0, 48000.0],\n",
       "       [1, 30.0, 54000.0],\n",
       "       [0, 38.0, 61000.0],\n",
       "       [1, 40.0, 61000.0],\n",
       "       [2, 35.0, 58000.0],\n",
       "       [0, 38.0, 52000.0],\n",
       "       [2, 48.0, 79000.0],\n",
       "       [1, 50.0, 83000.0],\n",
       "       [2, 37.0, 67000.0]], dtype=object)"
      ]
     },
     "execution_count": 153,
     "metadata": {},
     "output_type": "execute_result"
    }
   ],
   "source": [
    "# converted categorical into num\n",
    "x"
   ]
  },
  {
   "cell_type": "code",
   "execution_count": 154,
   "id": "4b8359e3-147e-49c7-9067-ea84edd841c2",
   "metadata": {},
   "outputs": [],
   "source": [
    "# dealing with dependent variable y\n",
    "labelencoder_y = LabelEncoder()\n",
    "\n",
    "# as it is single column/1d array no need to specify index, we can directly assaign\n",
    "y = labelencoder_y.fit_transform(y)"
   ]
  },
  {
   "cell_type": "code",
   "execution_count": 155,
   "id": "6b891c08-deac-4b43-85f8-64737b1841c4",
   "metadata": {},
   "outputs": [
    {
     "data": {
      "text/plain": [
       "array([0, 1, 0, 0, 1, 1, 0, 1, 0, 1])"
      ]
     },
     "execution_count": 155,
     "metadata": {},
     "output_type": "execute_result"
    }
   ],
   "source": [
    "# converted categorical into numeric array\n",
    "y"
   ]
  },
  {
   "cell_type": "markdown",
   "id": "324e07ba-dc0e-49ca-ba2f-253d36da20bd",
   "metadata": {},
   "source": [
    "## SPLITTNG THE DATA"
   ]
  },
  {
   "cell_type": "code",
   "execution_count": 157,
   "id": "7efbe4e8-6226-4e3c-9e39-dd7987794b7b",
   "metadata": {},
   "outputs": [],
   "source": [
    "x_train,x_test,y_train,y_test = train_test_split(x,y, test_size = 0.2,random_state = 0)"
   ]
  },
  {
   "cell_type": "code",
   "execution_count": 158,
   "id": "de88f031-0010-4d7f-98d6-8ed73251053e",
   "metadata": {},
   "outputs": [
    {
     "name": "stdout",
     "output_type": "stream",
     "text": [
      "x_train: [[1 40.0 61000.0]\n",
      " [2 37.0 67000.0]\n",
      " [0 27.0 48000.0]\n",
      " [0 38.0 52000.0]\n",
      " [2 48.0 79000.0]\n",
      " [0 38.0 61000.0]\n",
      " [2 44.0 72000.0]\n",
      " [2 35.0 58000.0]]\n",
      "x_test: [[1 30.0 54000.0]\n",
      " [1 50.0 83000.0]]\n"
     ]
    }
   ],
   "source": [
    "print(\"x_train:\" , x_train)         # 80% of the data used for the training\n",
    "print(\"x_test:\" , x_test)          # 20% of the data used for the testing"
   ]
  },
  {
   "cell_type": "code",
   "execution_count": 159,
   "id": "0aa12fb3-7268-44ce-bbf1-e5e56565d45b",
   "metadata": {},
   "outputs": [
    {
     "name": "stdout",
     "output_type": "stream",
     "text": [
      "y_train: [1 1 1 0 1 0 0 1]\n",
      "y_test: [0 0]\n"
     ]
    }
   ],
   "source": [
    "print(\"y_train:\" , y_train)               # 80% of the data used for the training\n",
    "print(\"y_test:\" , y_test)                 # 20% of the data used for the testing"
   ]
  },
  {
   "cell_type": "code",
   "execution_count": null,
   "id": "1f92dbf7-a7a0-47db-91d7-0e16fe3b5e78",
   "metadata": {},
   "outputs": [],
   "source": []
  }
 ],
 "metadata": {
  "kernelspec": {
   "display_name": "Python 3 (ipykernel)",
   "language": "python",
   "name": "python3"
  },
  "language_info": {
   "codemirror_mode": {
    "name": "ipython",
    "version": 3
   },
   "file_extension": ".py",
   "mimetype": "text/x-python",
   "name": "python",
   "nbconvert_exporter": "python",
   "pygments_lexer": "ipython3",
   "version": "3.12.7"
  }
 },
 "nbformat": 4,
 "nbformat_minor": 5
}
